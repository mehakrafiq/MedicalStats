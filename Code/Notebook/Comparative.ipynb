{
 "cells": [
  {
   "cell_type": "code",
   "execution_count": null,
   "metadata": {},
   "outputs": [],
   "source": [
    "import pandas as pd\n",
    "import numpy as np\n",
    "import seaborn as sns\n",
    "import matplotlib.pyplot as plt \n",
    "import statsmodels.api as sm\n",
    "from scipy.stats import f_oneway\n",
    "from scipy.stats import ttest_ind\n",
    "from scipy.stats import ttest_rel\n",
    "from scipy.stats import norm\n",
    "\n",
    "#Ignore warnings\n",
    "import warnings\n",
    "warnings.filterwarnings('ignore')"
   ]
  },
  {
   "cell_type": "code",
   "execution_count": null,
   "metadata": {},
   "outputs": [],
   "source": [
    "#read excel file into dataframe concatenated with all sheets\n",
    "def read_and_clean_data(filepath, df_name):\n",
    "    # Read treatment data into dataframes\n",
    "    no_diabetes = pd.read_excel(filepath, sheet_name='No_diabetes')\n",
    "    pre_diabetes = pd.read_excel(filepath, sheet_name='Pre_diabetes')\n",
    "    diabetes = pd.read_excel(filepath, sheet_name='Diabetes')\n",
    "\n",
    "    # Create labels for each group\n",
    "    no_diabetes['no_diabetes'] = 1\n",
    "    no_diabetes['pre_diabetes'] = 0\n",
    "    no_diabetes['diabetes'] = 0\n",
    "\n",
    "    pre_diabetes['no_diabetes'] = 0\n",
    "    pre_diabetes['pre_diabetes'] = 1\n",
    "    pre_diabetes['diabetes'] = 0\n",
    "\n",
    "    diabetes['no_diabetes'] = 0\n",
    "    diabetes['pre_diabetes'] = 0\n",
    "    diabetes['diabetes'] = 1\n",
    "\n",
    "    # Concatenate dataframes\n",
    "    treatment = pd.concat([no_diabetes, pre_diabetes, diabetes], ignore_index=True)\n",
    "    \n",
    "    # Drop the extra columns with error handling to avoid issues on rerun\n",
    "    columns_to_drop = ['No diabetes', 'Pre-Diabetes', 'Diabetes']\n",
    "    for col in columns_to_drop:\n",
    "        try:\n",
    "            treatment = treatment.drop(columns=[col])\n",
    "        except:\n",
    "            pass\n",
    "\n",
    "    # Fill NaN values with 0 in specified columns\n",
    "    columns_to_fill = ['Length of Stay', 'Fall', 'U69.*', 'T81.*', 'T84.*', 'N17.*', 'I21.*', 'R96.*', 'TOD', 'INTENSIV']\n",
    "    treatment[columns_to_fill] = treatment[columns_to_fill].fillna(0)\n",
    "\n",
    "    # Rename columns\n",
    "    treatment = treatment.rename(columns={ 'U69.*': 'U69', 'T81.*': 'T81', 'T84.*': 'T84', 'N17.*': 'N17', 'I21.*': 'I21', 'R96.*': 'R96',})\n",
    "\n",
    "    #Assigning the user defined name to the dataframe\n",
    "    globals()[df_name] = treatment\n"
   ]
  },
  {
   "cell_type": "code",
   "execution_count": null,
   "metadata": {},
   "outputs": [],
   "source": [
    "#read treatment group 1 data into dataframe\n",
    "filepath = r'D:\\OneDrive - National University of Sciences & Technology\\Desktop\\upwork\\MedicalStats\\Data\\Raw\\Treatment group 1.xlsx'\n",
    "read_and_clean_data(filepath, 'treatment_1')\n",
    "treatment_5.head()"
   ]
  },
  {
   "cell_type": "code",
   "execution_count": null,
   "metadata": {},
   "outputs": [],
   "source": [
    "#read treatment group 3 data into dataframe\n",
    "filepath = r'D:\\OneDrive - National University of Sciences & Technology\\Desktop\\upwork\\MedicalStats\\Data\\Raw\\Treatment group 3.xlsx'\n",
    "read_and_clean_data(filepath, 'treatment_3')\n",
    "treatment_5.head()"
   ]
  },
  {
   "cell_type": "code",
   "execution_count": null,
   "metadata": {},
   "outputs": [],
   "source": [
    "#read treatment group 5 data into dataframe\n",
    "filepath = r'D:\\OneDrive - National University of Sciences & Technology\\Desktop\\upwork\\MedicalStats\\Data\\Raw\\Treatment group 5.xlsx'\n",
    "read_and_clean_data(filepath, 'treatment_5')\n",
    "treatment_5.head()"
   ]
  }
 ],
 "metadata": {
  "kernelspec": {
   "display_name": "DataAnalysis",
   "language": "python",
   "name": "python3"
  },
  "language_info": {
   "name": "python",
   "version": "3.11.5"
  },
  "orig_nbformat": 4
 },
 "nbformat": 4,
 "nbformat_minor": 2
}
